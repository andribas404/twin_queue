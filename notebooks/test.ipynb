{
 "cells": [
  {
   "cell_type": "code",
   "execution_count": 1,
   "metadata": {},
   "outputs": [],
   "source": [
    "import os, sys\n",
    "import django\n",
    "\n",
    "BASE_PATH = os.path.dirname(os.getcwd())\n",
    "\n",
    "sys.path.insert(0, BASE_PATH)\n",
    "\n",
    "django.setup()"
   ]
  },
  {
   "cell_type": "code",
   "execution_count": 17,
   "metadata": {},
   "outputs": [],
   "source": [
    "import requests\n",
    "import pandas as pd"
   ]
  },
  {
   "cell_type": "code",
   "execution_count": 55,
   "metadata": {},
   "outputs": [],
   "source": [
    "TASK_COUNT = 10\n",
    "ids = []\n",
    "for task in range(TASK_COUNT):\n",
    "    r = requests.post('http://nginx/create/')\n",
    "    assert r.status_code == 200\n",
    "    data = r.json()\n",
    "    ids.append(data['id'])"
   ]
  },
  {
   "cell_type": "code",
   "execution_count": 56,
   "metadata": {},
   "outputs": [
    {
     "data": {
      "text/plain": [
       "[26, 27, 28, 29, 30, 31, 32, 33, 34, 35]"
      ]
     },
     "execution_count": 56,
     "metadata": {},
     "output_type": "execute_result"
    }
   ],
   "source": [
    "ids"
   ]
  },
  {
   "cell_type": "code",
   "execution_count": 64,
   "metadata": {},
   "outputs": [],
   "source": [
    "r_list = requests.get('http://nginx/')"
   ]
  },
  {
   "cell_type": "code",
   "execution_count": 65,
   "metadata": {},
   "outputs": [],
   "source": [
    "df = pd.DataFrame(r_list.json())\n",
    "df = df[df.id.isin(ids)]"
   ]
  },
  {
   "cell_type": "code",
   "execution_count": 66,
   "metadata": {},
   "outputs": [
    {
     "data": {
      "text/html": [
       "<div>\n",
       "<style scoped>\n",
       "    .dataframe tbody tr th:only-of-type {\n",
       "        vertical-align: middle;\n",
       "    }\n",
       "\n",
       "    .dataframe tbody tr th {\n",
       "        vertical-align: top;\n",
       "    }\n",
       "\n",
       "    .dataframe thead th {\n",
       "        text-align: right;\n",
       "    }\n",
       "</style>\n",
       "<table border=\"1\" class=\"dataframe\">\n",
       "  <thead>\n",
       "    <tr style=\"text-align: right;\">\n",
       "      <th></th>\n",
       "      <th>id</th>\n",
       "      <th>status</th>\n",
       "      <th>create_time</th>\n",
       "      <th>start_time</th>\n",
       "      <th>exec_time</th>\n",
       "    </tr>\n",
       "  </thead>\n",
       "  <tbody>\n",
       "    <tr>\n",
       "      <th>28</th>\n",
       "      <td>26</td>\n",
       "      <td>Completed</td>\n",
       "      <td>2019-07-25T11:35:18.262895Z</td>\n",
       "      <td>2019-07-25T11:35:18.639559Z</td>\n",
       "      <td>00:00:02.104226</td>\n",
       "    </tr>\n",
       "    <tr>\n",
       "      <th>29</th>\n",
       "      <td>27</td>\n",
       "      <td>Completed</td>\n",
       "      <td>2019-07-25T11:35:18.678429Z</td>\n",
       "      <td>2019-07-25T11:35:18.776780Z</td>\n",
       "      <td>00:00:07.106364</td>\n",
       "    </tr>\n",
       "    <tr>\n",
       "      <th>30</th>\n",
       "      <td>28</td>\n",
       "      <td>Completed</td>\n",
       "      <td>2019-07-25T11:35:18.713391Z</td>\n",
       "      <td>2019-07-25T11:35:20.817098Z</td>\n",
       "      <td>00:00:05.133172</td>\n",
       "    </tr>\n",
       "    <tr>\n",
       "      <th>32</th>\n",
       "      <td>29</td>\n",
       "      <td>Completed</td>\n",
       "      <td>2019-07-25T11:35:18.811115Z</td>\n",
       "      <td>2019-07-25T11:35:26.007487Z</td>\n",
       "      <td>00:00:08.108207</td>\n",
       "    </tr>\n",
       "    <tr>\n",
       "      <th>31</th>\n",
       "      <td>30</td>\n",
       "      <td>Completed</td>\n",
       "      <td>2019-07-25T11:35:18.858539Z</td>\n",
       "      <td>2019-07-25T11:35:26.064988Z</td>\n",
       "      <td>00:00:06.113025</td>\n",
       "    </tr>\n",
       "    <tr>\n",
       "      <th>34</th>\n",
       "      <td>31</td>\n",
       "      <td>Completed</td>\n",
       "      <td>2019-07-25T11:35:18.903133Z</td>\n",
       "      <td>2019-07-25T11:35:32.241026Z</td>\n",
       "      <td>00:00:08.106347</td>\n",
       "    </tr>\n",
       "    <tr>\n",
       "      <th>33</th>\n",
       "      <td>32</td>\n",
       "      <td>Completed</td>\n",
       "      <td>2019-07-25T11:35:18.942378Z</td>\n",
       "      <td>2019-07-25T11:35:34.185565Z</td>\n",
       "      <td>00:00:05.109245</td>\n",
       "    </tr>\n",
       "    <tr>\n",
       "      <th>0</th>\n",
       "      <td>33</td>\n",
       "      <td>Completed</td>\n",
       "      <td>2019-07-25T11:35:18.986345Z</td>\n",
       "      <td>2019-07-25T11:35:39.403851Z</td>\n",
       "      <td>00:00:07.130216</td>\n",
       "    </tr>\n",
       "    <tr>\n",
       "      <th>6</th>\n",
       "      <td>34</td>\n",
       "      <td>Completed</td>\n",
       "      <td>2019-07-25T11:35:19.028315Z</td>\n",
       "      <td>2019-07-25T11:35:40.426357Z</td>\n",
       "      <td>00:00:08.134705</td>\n",
       "    </tr>\n",
       "    <tr>\n",
       "      <th>4</th>\n",
       "      <td>35</td>\n",
       "      <td>Completed</td>\n",
       "      <td>2019-07-25T11:35:19.067316Z</td>\n",
       "      <td>2019-07-25T11:35:46.601925Z</td>\n",
       "      <td>00:00:00.097286</td>\n",
       "    </tr>\n",
       "  </tbody>\n",
       "</table>\n",
       "</div>"
      ],
      "text/plain": [
       "    id     status                  create_time                   start_time  \\\n",
       "28  26  Completed  2019-07-25T11:35:18.262895Z  2019-07-25T11:35:18.639559Z   \n",
       "29  27  Completed  2019-07-25T11:35:18.678429Z  2019-07-25T11:35:18.776780Z   \n",
       "30  28  Completed  2019-07-25T11:35:18.713391Z  2019-07-25T11:35:20.817098Z   \n",
       "32  29  Completed  2019-07-25T11:35:18.811115Z  2019-07-25T11:35:26.007487Z   \n",
       "31  30  Completed  2019-07-25T11:35:18.858539Z  2019-07-25T11:35:26.064988Z   \n",
       "34  31  Completed  2019-07-25T11:35:18.903133Z  2019-07-25T11:35:32.241026Z   \n",
       "33  32  Completed  2019-07-25T11:35:18.942378Z  2019-07-25T11:35:34.185565Z   \n",
       "0   33  Completed  2019-07-25T11:35:18.986345Z  2019-07-25T11:35:39.403851Z   \n",
       "6   34  Completed  2019-07-25T11:35:19.028315Z  2019-07-25T11:35:40.426357Z   \n",
       "4   35  Completed  2019-07-25T11:35:19.067316Z  2019-07-25T11:35:46.601925Z   \n",
       "\n",
       "          exec_time  \n",
       "28  00:00:02.104226  \n",
       "29  00:00:07.106364  \n",
       "30  00:00:05.133172  \n",
       "32  00:00:08.108207  \n",
       "31  00:00:06.113025  \n",
       "34  00:00:08.106347  \n",
       "33  00:00:05.109245  \n",
       "0   00:00:07.130216  \n",
       "6   00:00:08.134705  \n",
       "4   00:00:00.097286  "
      ]
     },
     "execution_count": 66,
     "metadata": {},
     "output_type": "execute_result"
    }
   ],
   "source": [
    "df.sort_values(['start_time'])"
   ]
  },
  {
   "cell_type": "code",
   "execution_count": null,
   "metadata": {},
   "outputs": [],
   "source": []
  }
 ],
 "metadata": {
  "kernelspec": {
   "display_name": "Django Shell-Plus",
   "language": "python",
   "name": "django_extensions"
  },
  "language_info": {
   "codemirror_mode": {
    "name": "ipython",
    "version": 3
   },
   "file_extension": ".py",
   "mimetype": "text/x-python",
   "name": "python",
   "nbconvert_exporter": "python",
   "pygments_lexer": "ipython3",
   "version": "3.7.4"
  }
 },
 "nbformat": 4,
 "nbformat_minor": 2
}
